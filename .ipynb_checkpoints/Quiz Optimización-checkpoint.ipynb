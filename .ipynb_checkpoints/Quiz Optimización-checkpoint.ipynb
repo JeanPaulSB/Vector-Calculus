{
 "cells": [
  {
   "cell_type": "markdown",
   "id": "bc991a73",
   "metadata": {},
   "source": [
    "# Punto dos del quiz de optimización.\n",
    "1) Resuelto usando módulo scipy"
   ]
  },
  {
   "cell_type": "code",
   "execution_count": 3,
   "id": "18435478",
   "metadata": {},
   "outputs": [
    {
     "data": {
      "text/plain": [
       "array([1.58740092, 1.58740116, 1.58740107])"
      ]
     },
     "execution_count": 3,
     "metadata": {},
     "output_type": "execute_result"
    }
   ],
   "source": [
    "from scipy.optimize import minimize\n",
    "import sympy as smp\n",
    "import numpy as np\n",
    "#defining A(x,y,z)=2(xy+yz+zx)\n",
    "fun=lambda x: 2*(x[0]*x[1]+x[0]*x[2]+x[1]*x[2])\n",
    "#Defining our constraint as xyz=4\n",
    "cons=({'type':'eq','fun':lambda x:(x[0]*x[1]*x[2])-4},)\n",
    "\n",
    "bnd=((0,None),(0,None),(0,None))\n",
    "res=minimize(fun,(2,2,2),method='SLSQP',bounds=bnd,constraints=cons)\n",
    "res['x']"
   ]
  },
  {
   "cell_type": "raw",
   "id": "fade05e6",
   "metadata": {},
   "source": [
    "2) Resuelto usando multiplicadores de lagrange"
   ]
  },
  {
   "cell_type": "code",
   "execution_count": 4,
   "id": "4abcb545",
   "metadata": {},
   "outputs": [
    {
     "name": "stdout",
     "output_type": "stream",
     "text": [
      "x= 2**(2/3) y=2**(2/3) z=2**(2/3)\n"
     ]
    }
   ],
   "source": [
    "x,y,z=smp.symbols('x y z',real=True)\n",
    "f=2*(x*y+y*z+x*z)\n",
    "g=x*y*z-4\n",
    "lamda=smp.symbols('lamda')\n",
    "L=f-lamda*g\n",
    "smp.init_printing()\n",
    "GradL=[smp.diff(L,var) for var in [x,y,z]]\n",
    "eqs=GradL+[g]\n",
    "solution=(smp.solve(eqs,[x,y,z,lamda],dict=True))[0]\n",
    "print(f\"x= {solution[x]} y={solution[y]} z={solution[y]}\")"
   ]
  },
  {
   "cell_type": "markdown",
   "id": "4556ed7d",
   "metadata": {},
   "source": [
    "# Punto 1 del quiz de optimización\n"
   ]
  },
  {
   "cell_type": "code",
   "execution_count": 30,
   "id": "73d1ce7e",
   "metadata": {},
   "outputs": [
    {
     "name": "stdout",
     "output_type": "stream",
     "text": [
      "     fun: 5.999999997205208\n",
      "     jac: array([2.00000012, 2.        , 4.        ])\n",
      " message: 'Optimization terminated successfully'\n",
      "    nfev: 24\n",
      "     nit: 6\n",
      "    njev: 6\n",
      "  status: 0\n",
      " success: True\n",
      "       x: array([1.00000003, 0.99999997, 2.        ])\n"
     ]
    }
   ],
   "source": [
    "fun=lambda x:(x[0]**2+x[1]**2+x[2]**2)\n",
    "cons=({'type':'eq','fun': lambda x:x[0]+x[1]+x[2]-4},\n",
    "     {'type':'eq','fun': lambda x:x[0]**2+x[1]**2-x[2]})\n",
    "bnd=((0,None),(0,None),(0,None))\n",
    "res=minimize(fun,(4,4,4),method=\"SLSQP\",bounds=bnd,constraints=cons)\n",
    "print(res)\n",
    "\n"
   ]
  },
  {
   "cell_type": "code",
   "execution_count": 19,
   "id": "c59c2bc5",
   "metadata": {},
   "outputs": [],
   "source": [
    "x,y,z,w=smp.symbols('x y z w',real=True)\n",
    "f=x**2+y**2*z**2\n",
    "g_1=x+y+z-4\n",
    "g_2=x**2+y**2-z\n",
    "lamda=smp.symbols('lambda')\n",
    "L=f-lamda*g_1+w*g_2\n",
    "GradL=[smp.diff(L,var) for var in [x,y,z]]\n",
    "eqs=GradL+[g_1]+[g_2]"
   ]
  },
  {
   "cell_type": "code",
   "execution_count": null,
   "id": "03d8a2c7",
   "metadata": {},
   "outputs": [],
   "source": []
  }
 ],
 "metadata": {
  "kernelspec": {
   "display_name": "Python 3 (ipykernel)",
   "language": "python",
   "name": "python3"
  },
  "language_info": {
   "codemirror_mode": {
    "name": "ipython",
    "version": 3
   },
   "file_extension": ".py",
   "mimetype": "text/x-python",
   "name": "python",
   "nbconvert_exporter": "python",
   "pygments_lexer": "ipython3",
   "version": "3.10.3"
  }
 },
 "nbformat": 4,
 "nbformat_minor": 5
}
